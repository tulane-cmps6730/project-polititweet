{
 "cells": [
  {
   "cell_type": "code",
   "execution_count": 1,
   "metadata": {},
   "outputs": [],
   "source": [
    "import os\n",
    "import re\n",
    "import json\n",
    "import pandas as pd\n",
    "from textwrap import wrap\n",
    "from openai import OpenAI\n",
    "from prettytable import PrettyTable"
   ]
  },
  {
   "cell_type": "markdown",
   "metadata": {},
   "source": [
    "### Get annotated data:"
   ]
  },
  {
   "cell_type": "code",
   "execution_count": 2,
   "metadata": {},
   "outputs": [
    {
     "data": {
      "text/html": [
       "<div>\n",
       "<style scoped>\n",
       "    .dataframe tbody tr th:only-of-type {\n",
       "        vertical-align: middle;\n",
       "    }\n",
       "\n",
       "    .dataframe tbody tr th {\n",
       "        vertical-align: top;\n",
       "    }\n",
       "\n",
       "    .dataframe thead th {\n",
       "        text-align: right;\n",
       "    }\n",
       "</style>\n",
       "<table border=\"1\" class=\"dataframe\">\n",
       "  <thead>\n",
       "    <tr style=\"text-align: right;\">\n",
       "      <th></th>\n",
       "      <th>Unnamed: 0</th>\n",
       "      <th>sch_ID</th>\n",
       "      <th>sch_name</th>\n",
       "      <th>sch_state</th>\n",
       "      <th>sch_county</th>\n",
       "      <th>status</th>\n",
       "      <th>sch_type</th>\n",
       "      <th>sch_level</th>\n",
       "      <th>sch_mean_ach</th>\n",
       "      <th>sch_grade_slope_mean_ach</th>\n",
       "      <th>...</th>\n",
       "      <th>L2_facilities</th>\n",
       "      <th>L2_religious</th>\n",
       "      <th>L2_school choice/enrollment</th>\n",
       "      <th>L2_building quality</th>\n",
       "      <th>L2_students</th>\n",
       "      <th>L2_curriculum/curricular materials</th>\n",
       "      <th>L2_school staff</th>\n",
       "      <th>L2_school finances</th>\n",
       "      <th>L2_school type</th>\n",
       "      <th>L2_student discipline</th>\n",
       "    </tr>\n",
       "  </thead>\n",
       "  <tbody>\n",
       "    <tr>\n",
       "      <th>0</th>\n",
       "      <td>0</td>\n",
       "      <td>10000500870</td>\n",
       "      <td>Albertville Middle School</td>\n",
       "      <td>AL</td>\n",
       "      <td>MARSHALL COUNTY</td>\n",
       "      <td>1.0</td>\n",
       "      <td>tps</td>\n",
       "      <td>Middle</td>\n",
       "      <td>-0.331363</td>\n",
       "      <td>NaN</td>\n",
       "      <td>...</td>\n",
       "      <td>1</td>\n",
       "      <td>0</td>\n",
       "      <td>1</td>\n",
       "      <td>0</td>\n",
       "      <td>1</td>\n",
       "      <td>1</td>\n",
       "      <td>1</td>\n",
       "      <td>0</td>\n",
       "      <td>0</td>\n",
       "      <td>0</td>\n",
       "    </tr>\n",
       "    <tr>\n",
       "      <th>1</th>\n",
       "      <td>1</td>\n",
       "      <td>10000500871</td>\n",
       "      <td>ALBERTVILLE HIGH SCH</td>\n",
       "      <td>AL</td>\n",
       "      <td>MARSHALL COUNTY</td>\n",
       "      <td>1.0</td>\n",
       "      <td>tps</td>\n",
       "      <td>High</td>\n",
       "      <td>NaN</td>\n",
       "      <td>NaN</td>\n",
       "      <td>...</td>\n",
       "      <td>1</td>\n",
       "      <td>0</td>\n",
       "      <td>1</td>\n",
       "      <td>0</td>\n",
       "      <td>1</td>\n",
       "      <td>1</td>\n",
       "      <td>0</td>\n",
       "      <td>0</td>\n",
       "      <td>1</td>\n",
       "      <td>0</td>\n",
       "    </tr>\n",
       "    <tr>\n",
       "      <th>2</th>\n",
       "      <td>2</td>\n",
       "      <td>10000500871</td>\n",
       "      <td>ALBERTVILLE HIGH SCH</td>\n",
       "      <td>AL</td>\n",
       "      <td>MARSHALL COUNTY</td>\n",
       "      <td>1.0</td>\n",
       "      <td>tps</td>\n",
       "      <td>High</td>\n",
       "      <td>NaN</td>\n",
       "      <td>NaN</td>\n",
       "      <td>...</td>\n",
       "      <td>0</td>\n",
       "      <td>0</td>\n",
       "      <td>0</td>\n",
       "      <td>0</td>\n",
       "      <td>1</td>\n",
       "      <td>0</td>\n",
       "      <td>1</td>\n",
       "      <td>0</td>\n",
       "      <td>0</td>\n",
       "      <td>0</td>\n",
       "    </tr>\n",
       "  </tbody>\n",
       "</table>\n",
       "<p>3 rows × 60 columns</p>\n",
       "</div>"
      ],
      "text/plain": [
       "   Unnamed: 0       sch_ID                   sch_name sch_state  \\\n",
       "0           0  10000500870  Albertville Middle School        AL   \n",
       "1           1  10000500871       ALBERTVILLE HIGH SCH        AL   \n",
       "2           2  10000500871       ALBERTVILLE HIGH SCH        AL   \n",
       "\n",
       "        sch_county  status sch_type sch_level  sch_mean_ach  \\\n",
       "0  MARSHALL COUNTY     1.0      tps    Middle     -0.331363   \n",
       "1  MARSHALL COUNTY     1.0      tps      High           NaN   \n",
       "2  MARSHALL COUNTY     1.0      tps      High           NaN   \n",
       "\n",
       "   sch_grade_slope_mean_ach  ...  L2_facilities  L2_religious  \\\n",
       "0                       NaN  ...              1             0   \n",
       "1                       NaN  ...              1             0   \n",
       "2                       NaN  ...              0             0   \n",
       "\n",
       "  L2_school choice/enrollment L2_building quality L2_students  \\\n",
       "0                           1                   0           1   \n",
       "1                           1                   0           1   \n",
       "2                           0                   0           1   \n",
       "\n",
       "   L2_curriculum/curricular materials  L2_school staff  L2_school finances  \\\n",
       "0                                   1                1                   0   \n",
       "1                                   1                0                   0   \n",
       "2                                   0                1                   0   \n",
       "\n",
       "   L2_school type  L2_student discipline  \n",
       "0               0                      0  \n",
       "1               1                      0  \n",
       "2               0                      0  \n",
       "\n",
       "[3 rows x 60 columns]"
      ]
     },
     "execution_count": 2,
     "metadata": {},
     "output_type": "execute_result"
    }
   ],
   "source": [
    "df = pd.read_csv(\"../220614_GreatSchools_Revised_Annotated_Data.csv\", low_memory=False)\n",
    "df.head(3)"
   ]
  },
  {
   "cell_type": "code",
   "execution_count": 3,
   "metadata": {},
   "outputs": [
    {
     "data": {
      "text/plain": [
       "Index(['Unnamed: 0', 'sch_ID', 'sch_name', 'sch_state', 'sch_county', 'status',\n",
       "       'sch_type', 'sch_level', 'sch_mean_ach', 'sch_grade_slope_mean_ach',\n",
       "       'sch_star_rating_avg', 'resp_count', 'sy_text', 'who', 'comments',\n",
       "       'review_star_rating', 'sch_gs_rating', 'words', 'is_charter',\n",
       "       'is_private', 'is_tps', 'is_good_rev', 'is_bad_rev', 'is_good_sch',\n",
       "       'is_bad_sch', 'no_rev_rating', 'no_sch_rating', 'L1_school staff',\n",
       "       'L1_school culture', 'L1_resources', 'L1_instruction & learning',\n",
       "       'L1_school-level features', 'L1_physical environment',\n",
       "       'L1_overall quality', 'L1_other', 'L2_postsecondary/graduation',\n",
       "       'L2_school culture', 'L2_school safety', 'L2_preparation',\n",
       "       'L2_location', 'L2_learning experience', 'L2_quality indicator',\n",
       "       'L2_instruction', 'L2_evaluation', 'L2_family', 'L2_other',\n",
       "       'L2_extracurricular/electives', 'L2_teacher quality', 'L2_offering',\n",
       "       'L2_interpersonal relationships', 'L2_facilities', 'L2_religious',\n",
       "       'L2_school choice/enrollment', 'L2_building quality', 'L2_students',\n",
       "       'L2_curriculum/curricular materials', 'L2_school staff',\n",
       "       'L2_school finances', 'L2_school type', 'L2_student discipline'],\n",
       "      dtype='object')"
      ]
     },
     "execution_count": 3,
     "metadata": {},
     "output_type": "execute_result"
    }
   ],
   "source": [
    "df.columns"
   ]
  },
  {
   "cell_type": "markdown",
   "metadata": {},
   "source": [
    "### Get categories from annotated data (to compare later)"
   ]
  },
  {
   "cell_type": "code",
   "execution_count": 4,
   "metadata": {},
   "outputs": [
    {
     "data": {
      "text/plain": [
       "['L2_postsecondary/graduation',\n",
       " 'L2_school culture',\n",
       " 'L2_school safety',\n",
       " 'L2_preparation',\n",
       " 'L2_location',\n",
       " 'L2_learning experience',\n",
       " 'L2_quality indicator',\n",
       " 'L2_instruction',\n",
       " 'L2_evaluation',\n",
       " 'L2_family',\n",
       " 'L2_other',\n",
       " 'L2_extracurricular/electives',\n",
       " 'L2_teacher quality',\n",
       " 'L2_offering',\n",
       " 'L2_interpersonal relationships',\n",
       " 'L2_facilities',\n",
       " 'L2_religious',\n",
       " 'L2_school choice/enrollment',\n",
       " 'L2_building quality',\n",
       " 'L2_students',\n",
       " 'L2_curriculum/curricular materials',\n",
       " 'L2_school staff',\n",
       " 'L2_school finances',\n",
       " 'L2_school type',\n",
       " 'L2_student discipline']"
      ]
     },
     "execution_count": 4,
     "metadata": {},
     "output_type": "execute_result"
    }
   ],
   "source": [
    "# l1_vars = [column for column in df.columns if \"L1\" in column]\n",
    "l2_vars = [column for column in df.columns if \"L2\" in column]\n",
    "l2_vars\n"
   ]
  },
  {
   "cell_type": "markdown",
   "metadata": {},
   "source": [
    "### Get categores from keywords file (source of truth?)"
   ]
  },
  {
   "cell_type": "code",
   "execution_count": 5,
   "metadata": {},
   "outputs": [
    {
     "data": {
      "text/plain": [
       "['Student discipline',\n",
       " 'Interpersonal relationships',\n",
       " 'Students',\n",
       " 'Teacher quality',\n",
       " 'School culture',\n",
       " 'Facilities',\n",
       " 'Preparation',\n",
       " 'Religious',\n",
       " 'School type',\n",
       " 'Location',\n",
       " 'Evaluation',\n",
       " 'Curriculum/curricular materials',\n",
       " 'Offering',\n",
       " 'School finances',\n",
       " 'Postsecondary/graduation',\n",
       " 'School choice/enrollment',\n",
       " 'Learning Experience',\n",
       " 'Politics',\n",
       " 'Building quality',\n",
       " 'Extracurricular/electives',\n",
       " 'Quality indicator',\n",
       " 'Other',\n",
       " 'Family',\n",
       " 'School staff',\n",
       " 'Instruction',\n",
       " 'School safety']"
      ]
     },
     "execution_count": 5,
     "metadata": {},
     "output_type": "execute_result"
    }
   ],
   "source": [
    "categories = list(set([category.strip() for category in list(pd.read_csv(\"../Final_Keywords_LL_Mar152022.csv\")[\"Level 2 Focused Category (from Topic-Based Framework & some new)\"].unique())]))\n",
    "categories"
   ]
  },
  {
   "cell_type": "markdown",
   "metadata": {},
   "source": [
    "### Map from keywords file to the column names in annotation file:"
   ]
  },
  {
   "cell_type": "code",
   "execution_count": 6,
   "metadata": {},
   "outputs": [],
   "source": [
    "# from ChatGPT: \n",
    "mapping = {\n",
    "    'Postsecondary/graduation': 'L2_postsecondary/graduation',\n",
    "    'School culture': 'L2_school culture',\n",
    "    'School safety': 'L2_school safety',\n",
    "    'Preparation': 'L2_preparation',\n",
    "    'Location': 'L2_location',\n",
    "    'Learning Experience': 'L2_learning experience',\n",
    "    'Quality indicator': 'L2_quality indicator',\n",
    "    'Instruction': 'L2_instruction',  \n",
    "    'Evaluation': 'L2_evaluation',\n",
    "    'Family': 'L2_family',\n",
    "    'Other': 'L2_other',\n",
    "    'Extracurricular/electives': 'L2_extracurricular/electives',\n",
    "    'Teacher quality': 'L2_teacher quality',\n",
    "    'Offering': 'L2_offering',\n",
    "    'Interpersonal relationships': 'L2_interpersonal relationships',\n",
    "    'Facilities': 'L2_facilities',\n",
    "    'Religious': 'L2_religious',\n",
    "    'School choice/enrollment': 'L2_school choice/enrollment',\n",
    "    'Building quality': 'L2_building quality', \n",
    "    'Students': 'L2_students',\n",
    "    'Curriculum/curricular materials': 'L2_curriculum/curricular materials',\n",
    "    'School staff': 'L2_school staff',\n",
    "    'School finances': 'L2_school finances',\n",
    "    'School type': 'L2_school type',\n",
    "    'Student discipline': 'L2_student discipline'\n",
    "}"
   ]
  },
  {
   "cell_type": "markdown",
   "metadata": {},
   "source": [
    "## Test:\n",
    "\n",
    "Get a single comment from annotations and query gpt for annotations, then compare against the annotation from annotations file."
   ]
  },
  {
   "cell_type": "code",
   "execution_count": 7,
   "metadata": {},
   "outputs": [
    {
     "data": {
      "text/plain": [
       "\"(PLEASE DONOT SEND YOUR KIDS HERE) LOTS OF BULLYING AND FIGHTS I went here when I was a kid and it was bad and now it is worst as it has ever been I well adment the teachers are ok I loved Mrs.Long and Mrs.Right but there were lots of fights and lots of people in my class was below grade level and had 50's,40's,30's,and even F's SO I would just like everyone to know about this school.Thanks\""
      ]
     },
     "execution_count": 7,
     "metadata": {},
     "output_type": "execute_result"
    }
   ],
   "source": [
    "comment = df.iloc[0].comments\n",
    "comment"
   ]
  },
  {
   "cell_type": "code",
   "execution_count": 21,
   "metadata": {},
   "outputs": [
    {
     "name": "stdout",
     "output_type": "stream",
     "text": [
      "3.5: 'Student discipline': 1\n",
      "'Interpersonal relationships': 0\n",
      "'Students': 1\n",
      "'Teacher quality': 1\n",
      "'School culture': 0\n",
      "'Facilities': 0\n",
      "'Preparation': 0\n",
      "'Religious': 0\n",
      "'School type': 0\n",
      "'Location': 0\n",
      "'Evaluation': 0\n",
      "'Curriculum/curricular materials': 0\n",
      "'Offering': 0\n",
      "'School finances': 0\n",
      "'Postsecondary/graduation': 0\n",
      "'School choice/enrollment': 0\n",
      "'Learning Experience': 0\n",
      "'Politics': 0\n",
      "'Building quality': 0\n",
      "'Extracurricular/electives': 0\n",
      "'Quality indicator': 0\n",
      "'Other': 0\n",
      "'Family': 0\n",
      "'School staff': 0\n",
      "'Instruction': 0\n",
      "'School safety': 0\n",
      "4.0: {\"Student discipline\": 1, \"Interpersonal relationships\": 0, \"Students\": 1, \"Teacher quality\": 1, \"School culture\": 1, \"Facilities\": 0, \"Preparation\": 0, \"Religious\": 0, \"School type\": 0, \"Location\": 0, \"Evaluation\": 0, \"Curriculum/curricular materials\": 1, \"Offering\": 0, \"School finances\": 0, \"Postsecondary/graduation\": 0, \"School choice/enrollment\": 0, \"Learning Experience\": 1, \"Politics\": 0, \"Building quality\": 0, \"Extracurricular/electives\": 0, \"Quality indicator\": 1, \"Other\": 1, \"Family\": 0, \"School staff\": 1, \"Instruction\": 0, \"School safety\": 1}\n"
     ]
    }
   ],
   "source": [
    "client = OpenAI() # defaults to os.environ[\"OPENAI_API_KEY\"]\n",
    "\n",
    "def query_gpt(categories, comment, model=\"gpt-3.5-turbo\"):\n",
    "\n",
    "    query = \"Which of these topics: \" + str(categories) + f'\\n\\nAre discussed in this review: \"{comment}\". Respond in the format: \"topic\": 0 or 1'\n",
    "\n",
    "    completion = client.chat.completions.create(\n",
    "        model=model,\n",
    "        messages=[\n",
    "            {\"role\":\"user\", \"content\":query}\n",
    "        ]\n",
    "    )\n",
    "    response = completion.choices[0].message.content\n",
    "    return response\n",
    "    \n",
    "response35 = query_gpt(categories, comment)\n",
    "print(\"3.5:\", response35)\n",
    "response40 = query_gpt(categories, comment, \"gpt-4\")\n",
    "print(\"4.0:\",response40)"
   ]
  },
  {
   "cell_type": "code",
   "execution_count": 33,
   "metadata": {},
   "outputs": [],
   "source": [
    "dict40 = json.loads(response40)\n",
    "\n",
    "predicted_values35 = [ [val.strip(\"'\") for val in topic.split(\": \")] for topic in response35.split('\\n') ]\n",
    "predicted_values40 = [[val, dict40[val]] for val in list(dict40.keys())]"
   ]
  },
  {
   "cell_type": "markdown",
   "metadata": {},
   "source": [
    "### Compare using jaccard similarity"
   ]
  },
  {
   "cell_type": "code",
   "execution_count": 35,
   "metadata": {},
   "outputs": [],
   "source": [
    "def jaccard_similarity(vector1, vector2):\n",
    "    if len(vector1) != len(vector2):\n",
    "        raise ValueError(\"Vectors must be of equal length\")\n",
    "\n",
    "    intersection = sum(int(el1) and int(el2) for el1, el2 in zip(vector1, vector2))\n",
    "    union = sum(int(el1) or int(el2) for el1, el2 in zip(vector1, vector2))\n",
    "\n",
    "    if union == 0:\n",
    "        return 0.0  # to handle the case where both vectors are empty\n",
    "    else:\n",
    "        return intersection / union"
   ]
  },
  {
   "cell_type": "code",
   "execution_count": 37,
   "metadata": {},
   "outputs": [
    {
     "name": "stdout",
     "output_type": "stream",
     "text": [
      "\t ChatGPT | Annotation\n",
      "Politics or ['Politics', 0] not in DF. Skipping.\n",
      "+---------------------------------+-----+-----+-----+\n",
      "|             category            | hum | 3.5 | 4.0 |\n",
      "+---------------------------------+-----+-----+-----+\n",
      "|        Student discipline       |  0  |  1  |  1  |\n",
      "|   Interpersonal relationships   |  1  |  0  |  0  |\n",
      "|             Students            |  1  |  1  |  1  |\n",
      "|         Teacher quality         |  0  |  1  |  1  |\n",
      "|          School culture         |  0  |  0  |  1  |\n",
      "|            Facilities           |  1  |  0  |  0  |\n",
      "|           Preparation           |  0  |  0  |  0  |\n",
      "|            Religious            |  0  |  0  |  0  |\n",
      "|           School type           |  0  |  0  |  0  |\n",
      "|             Location            |  0  |  0  |  0  |\n",
      "|            Evaluation           |  1  |  0  |  0  |\n",
      "| Curriculum/curricular materials |  1  |  0  |  1  |\n",
      "|             Offering            |  0  |  0  |  0  |\n",
      "|         School finances         |  0  |  0  |  0  |\n",
      "|     Postsecondary/graduation    |  0  |  0  |  0  |\n",
      "|     School choice/enrollment    |  1  |  0  |  0  |\n",
      "|       Learning Experience       |  0  |  0  |  1  |\n",
      "|         Building quality        |  0  |  0  |  0  |\n",
      "|    Extracurricular/electives    |  0  |  0  |  0  |\n",
      "|        Quality indicator        |  1  |  0  |  1  |\n",
      "|              Other              |  1  |  0  |  1  |\n",
      "|              Family             |  0  |  0  |  0  |\n",
      "|           School staff          |  1  |  0  |  1  |\n",
      "|           Instruction           |  1  |  0  |  0  |\n",
      "|          School safety          |  1  |  0  |  1  |\n",
      "+---------------------------------+-----+-----+-----+\n",
      "Jaccard similarity 3.5: 0.07692307692307693\n",
      "Jaccard similarity 4.0: 0.4\n"
     ]
    }
   ],
   "source": [
    "print(\"\\t ChatGPT | Annotation\")\n",
    "\n",
    "categories_list, annotations, gpt_predictions35, gpt_predictions40 = [], [], [], []\n",
    "\n",
    "for prediction35, prediction40 in zip(predicted_values35, predicted_values40):\n",
    "    if prediction35[0] in mapping and prediction40[0] in mapping:\n",
    "        df_name = mapping[prediction35[0]]\n",
    "    else:\n",
    "        print(f\"{prediction35[0]} or {prediction40} not in DF. Skipping.\")\n",
    "        continue\n",
    "\n",
    "    categories_list.append(prediction35[0])\n",
    "    annotations.append(df.iloc[0][df_name])\n",
    "    gpt_predictions35.append(prediction35[1])\n",
    "    gpt_predictions40.append(prediction40[1])\n",
    "    \n",
    "table = PrettyTable()\n",
    "table.add_column(\"category\", categories_list)\n",
    "table.add_column(\"hum\", annotations)\n",
    "table.add_column(\"3.5\", gpt_predictions35)\n",
    "table.add_column(\"4.0\", gpt_predictions40)\n",
    "\n",
    "print(table)\n",
    "print(f\"Jaccard similarity 3.5: {jaccard_similarity(annotations, gpt_predictions35):}\")\n",
    "print(f\"Jaccard similarity 4.0: {jaccard_similarity(annotations, gpt_predictions40):}\")"
   ]
  },
  {
   "cell_type": "code",
   "execution_count": null,
   "metadata": {},
   "outputs": [
    {
     "name": "stdout",
     "output_type": "stream",
     "text": [
      "(PLEASE DONOT SEND YOUR KIDS HERE) LOTS OF BULLYING AND FIGHTS I went here when I was a kid and it\n",
      "was bad and now it is worst as it has ever been I well adment the teachers are ok I loved Mrs.Long\n",
      "and Mrs.Right but there were lots of fights and lots of people in my class was below grade level and\n",
      "had 50's,40's,30's,and even F's SO I would just like everyone to know about this school.Thanks\n"
     ]
    }
   ],
   "source": [
    "print(\"\\n\".join(wrap(text=comment, width=100)))"
   ]
  },
  {
   "cell_type": "markdown",
   "metadata": {},
   "source": [
    "## Takeaways:\n",
    "\n",
    "GPT is not going to give us the same values human annotators write in, but that doesn't mean the results should be discarded.\n",
    "\n",
    "\n",
    "On an infrastructure level, this problem is easily solvable by ChatGPT. The problem of applying this extremely versatile model to a dataset is one of prompt-engineering. Each token incurs a computational and financial cost- prompts need to be concise but specific in how the model should format it's answer, especially considering the application of this model to thousands of records. \n",
    "\n",
    "\n",
    "### Quality of GPT categorization:\n",
    "\n",
    "gpt 3.5 has satisfactory (but also somewhat different) performance from human annotators. gpt 4.0 performs better than human annotation in the test review I fed it, and makes a compelling case for the elements included/not included.\n",
    "\n",
    "Either way, GPT predictions don't match human labels to the letter. But I'd argue they're still valuable. 4.0 is probably the way to go.\n"
   ]
  },
  {
   "cell_type": "markdown",
   "metadata": {},
   "source": [
    "#### ChatGPT's case:"
   ]
  },
  {
   "cell_type": "code",
   "execution_count": null,
   "metadata": {},
   "outputs": [
    {
     "data": {
      "text/plain": [
       "\"'Preparation': 1 - The reviewer mentions that many students are below grade level, which relates to their preparation for the grade they are in.\\n\\n'Location': 0 - The review does not mention anything about the school's location.\\n\\n'Student discipline': 1 - The reviewer talks about bullying and fights at the school, indicating a lack of proper student discipline.\\n\\n'Interpersonal relationships': 1 - The reviewer comments on specific teachers positively, indicating some discussion of interpersonal relationships.\\n\\n'Extracurricular/electives': 0 - No mention of extracurricular activities or elective subjects was made.\\n\\n'Curriculum/curricular materials': 0 - There is no explicit discussion about the curriculum or educational materials used at the school.\\n\\n'School choice/enrollment': 0 - The reviewer does not discuss the process of choosing or being enrolled in the school.\\n\\n'Building quality': 0 - There is no mention of the physical state or quality of the school building.\\n\\n'School safety': 1 - The reviewer mentions bullying and fights, which are relevant to school safety.\\n\\n'Teacher quality': 1 - With the positive mention of specific teachers, this can be seen as an assessment of teacher quality.\\n\\n'Facilities': 0 - There is no reference to the school's facilities.\\n\\n'Politics': 0 - The review does not discuss anything related to politics.\\n\\n'Instruction': 0 - Although teacher quality is mentioned, there is no explicit discussion of the quality of instruction.\\n\\n'Learning Experience': 1 - The reviewer shares their subjective experience as a student there.\\n\\n'Evaluation': 1 - The mention of the students being below the grade level represents a form of evaluation.\\n\\n'Family': 0 - No mention of family is in the review.\\n\\n'School staff': 0 - There are no comments pertaining to the school staff other than teaching staff.\\n\\n'Other': 0 - There doesn't seem to be any commentary that doesn't fall into the other categories.\\n\\n'School finances': 0 - No discussion on the topic of school finances exists in the review.\\n\\n'School type': 0 - The reviewer doesn't specify what type of school it is.\\n\\n'Postsecondary/graduation': 0 - No mention of what happens after graduation or postsecondary opportunities.\\n\\n'School culture': 1 - The issues of bullying and fights, as well as low grades, indicate a negative school culture.\\n\\n'Quality indicator': 0 - There's no explicit commentary on factors typically considered quality indicators like test scores or college acceptance rates. \\n\\n'Students': 1 - The review discusses the behavior of the students and their academic achievement.\\n\\n'Religious': 0 - The review does not mention anything related to religion or a religious school.\\n\\n'Offering': 0 - The review does not discuss specific programs or offerings at the school.\""
      ]
     },
     "execution_count": 98,
     "metadata": {},
     "output_type": "execute_result"
    }
   ],
   "source": [
    "def query_gpt(categories, comment):\n",
    "\n",
    "    query = \"Which of these topics: \" + str(categories) + f'\\n\\nAre discussed in this review: \"{comment}\". Respond in the format: topic: 0 or 1'\n",
    "\n",
    "    completion = client.chat.completions.create(\n",
    "        model=\"gpt-4\",\n",
    "        messages=[\n",
    "            {\"role\":\"user\", \"content\":query},\n",
    "            {\"role\":\"assistant\", \"content\":\"'Preparation': 1, 'Location': 0, 'Student discipline': 1, 'Interpersonal relationships': 1, 'Extracurricular/electives': 0, 'Curriculum/curricular materials': 0, 'School choice/enrollment': 0, 'Building quality': 0, 'School safety': 1, 'Teacher quality': 1, 'Facilities': 0, 'Politics': 0, 'Instruction': 0, 'Learning Experience': 1, 'Evaluation': 1, 'Family': 0, 'School staff': 0, 'Other': 0, 'School finances': 0, 'School type': 0, 'Postsecondary/graduation': 0, 'School culture': 1, 'Quality indicator': 0, 'Students': 1, 'Religious': 0, 'Offering': 0.\"},\n",
    "            {\"role\":\"user\", \"content\":\"explain each answer\"}\n",
    "        ]\n",
    "    )\n",
    "    response = completion.choices[0].message.content\n",
    "    return response\n",
    "    \n",
    "response = query_gpt(categories, comment)\n",
    "response"
   ]
  },
  {
   "cell_type": "code",
   "execution_count": null,
   "metadata": {},
   "outputs": [],
   "source": []
  }
 ],
 "metadata": {
  "kernelspec": {
   "display_name": "Python 3",
   "language": "python",
   "name": "python3"
  },
  "language_info": {
   "codemirror_mode": {
    "name": "ipython",
    "version": 3
   },
   "file_extension": ".py",
   "mimetype": "text/x-python",
   "name": "python",
   "nbconvert_exporter": "python",
   "pygments_lexer": "ipython3",
   "version": "3.10.2"
  }
 },
 "nbformat": 4,
 "nbformat_minor": 2
}
